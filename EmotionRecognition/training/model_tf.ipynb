{
 "cells": [
  {
   "cell_type": "code",
   "execution_count": 1,
   "id": "9008bbe3",
   "metadata": {},
   "outputs": [],
   "source": [
    "from imutils import face_utils\n",
    "import imutils\n",
    "import time\n",
    "import dlib\n",
    "import cv2\n",
    "import json\n",
    "\n",
    "import matplotlib.pyplot as plt\n",
    "import os\n",
    "import math\n",
    "import pandas as pd\n",
    "import numpy as np\n",
    "import pickle\n",
    "\n",
    "import logging\n",
    "logging.disable(logging.INFO)\n",
    "os.environ[\"SM_FRAMEWORK\"] = \"tf.keras\""
   ]
  },
  {
   "cell_type": "code",
   "execution_count": null,
   "id": "3d563abc",
   "metadata": {},
   "outputs": [],
   "source": [
    "# from tensorflow.python.client import device_lib\n",
    "# print(device_lib.list_local_devices())"
   ]
  },
  {
   "cell_type": "markdown",
   "id": "f1b073fb",
   "metadata": {},
   "source": [
    "# Data Importing"
   ]
  },
  {
   "cell_type": "code",
   "execution_count": 2,
   "id": "846e2563",
   "metadata": {},
   "outputs": [],
   "source": [
    "# Initialize dlib's face detector (HOG-based) and then create the facial landmark predictor\n",
    "detector = dlib.get_frontal_face_detector()\n",
    "predictor = dlib.shape_predictor('../shape_predictor_68_face_landmarks.dat')"
   ]
  },
  {
   "cell_type": "code",
   "execution_count": 4,
   "id": "abeffa7f",
   "metadata": {
    "scrolled": false
   },
   "outputs": [
    {
     "name": "stdout",
     "output_type": "stream",
     "text": [
      "Deleted 0 rows.\n",
      "Deleted 2377 rows.\n"
     ]
    },
    {
     "data": {
      "text/html": [
       "<div>\n",
       "<style scoped>\n",
       "    .dataframe tbody tr th:only-of-type {\n",
       "        vertical-align: middle;\n",
       "    }\n",
       "\n",
       "    .dataframe tbody tr th {\n",
       "        vertical-align: top;\n",
       "    }\n",
       "\n",
       "    .dataframe thead th {\n",
       "        text-align: right;\n",
       "    }\n",
       "</style>\n",
       "<table border=\"1\" class=\"dataframe\">\n",
       "  <thead>\n",
       "    <tr style=\"text-align: right;\">\n",
       "      <th></th>\n",
       "      <th>mood</th>\n",
       "      <th>vectors</th>\n",
       "      <th>coords</th>\n",
       "    </tr>\n",
       "    <tr>\n",
       "      <th>filename</th>\n",
       "      <th></th>\n",
       "      <th></th>\n",
       "      <th></th>\n",
       "    </tr>\n",
       "  </thead>\n",
       "  <tbody>\n",
       "    <tr>\n",
       "      <th>S124_006_00000011.png</th>\n",
       "      <td>disgust</td>\n",
       "      <td>[-2.691559345257398, -2.674757561739866, 2.525...</td>\n",
       "      <td>[-0.9057309136178561, -0.325497047081417, -0.8...</td>\n",
       "    </tr>\n",
       "    <tr>\n",
       "      <th>S062_004_00000024.png</th>\n",
       "      <td>happiness</td>\n",
       "      <td>[-2.883901441465628, -2.864207095822907, 2.574...</td>\n",
       "      <td>[-0.9661300767465159, -0.24430875503934885, -0...</td>\n",
       "    </tr>\n",
       "    <tr>\n",
       "      <th>S097_004_00000030.png</th>\n",
       "      <td>disgust</td>\n",
       "      <td>[-2.579307851247246, -2.4797427375243375, -2.4...</td>\n",
       "      <td>[-0.8460392451288454, -0.5331206202181765, -0....</td>\n",
       "    </tr>\n",
       "    <tr>\n",
       "      <th>S055_001_00000012.png</th>\n",
       "      <td>surprise</td>\n",
       "      <td>[-2.3379498163730035, -2.293894571760886, 2.26...</td>\n",
       "      <td>[-0.7785592638593132, -0.41032177419612453, -0...</td>\n",
       "    </tr>\n",
       "    <tr>\n",
       "      <th>S044_002_00000001.png</th>\n",
       "      <td>neutral</td>\n",
       "      <td>[-2.670952151583654, -2.6075464797159613, -2.7...</td>\n",
       "      <td>[-0.8912780307610861, -0.45345724372055257, -0...</td>\n",
       "    </tr>\n",
       "    <tr>\n",
       "      <th>S106_004_00000001.png</th>\n",
       "      <td>neutral</td>\n",
       "      <td>[-2.3925258686429, -2.3399782619263503, -2.342...</td>\n",
       "      <td>[-0.7966629715906369, -0.42046101278394726, -0...</td>\n",
       "    </tr>\n",
       "    <tr>\n",
       "      <th>S076_004_00000001.png</th>\n",
       "      <td>neutral</td>\n",
       "      <td>[-2.6322915095877812, -2.4956214628010356, -2....</td>\n",
       "      <td>[-0.8730854600909741, -0.48756720498586864, -0...</td>\n",
       "    </tr>\n",
       "    <tr>\n",
       "      <th>S125_007_00000009.png</th>\n",
       "      <td>surprise</td>\n",
       "      <td>[-2.3672153606431108, -2.3720749957078584, 2.3...</td>\n",
       "      <td>[-0.7906442254257819, -0.39532211271289097, -0...</td>\n",
       "    </tr>\n",
       "    <tr>\n",
       "      <th>S095_002_00000001.png</th>\n",
       "      <td>neutral</td>\n",
       "      <td>[-2.7546945145567743, -2.7814986470922944, 2.7...</td>\n",
       "      <td>[-0.9269573672893522, -0.3382141745515204, -0....</td>\n",
       "    </tr>\n",
       "    <tr>\n",
       "      <th>S042_005_00000001.png</th>\n",
       "      <td>neutral</td>\n",
       "      <td>[-2.469843738210264, -2.482063768799045, -0.0,...</td>\n",
       "      <td>[-0.818619173037878, -0.4614035338940767, -0.8...</td>\n",
       "    </tr>\n",
       "  </tbody>\n",
       "</table>\n",
       "</div>"
      ],
      "text/plain": [
       "                            mood  \\\n",
       "filename                           \n",
       "S124_006_00000011.png    disgust   \n",
       "S062_004_00000024.png  happiness   \n",
       "S097_004_00000030.png    disgust   \n",
       "S055_001_00000012.png   surprise   \n",
       "S044_002_00000001.png    neutral   \n",
       "S106_004_00000001.png    neutral   \n",
       "S076_004_00000001.png    neutral   \n",
       "S125_007_00000009.png   surprise   \n",
       "S095_002_00000001.png    neutral   \n",
       "S042_005_00000001.png    neutral   \n",
       "\n",
       "                                                                 vectors  \\\n",
       "filename                                                                   \n",
       "S124_006_00000011.png  [-2.691559345257398, -2.674757561739866, 2.525...   \n",
       "S062_004_00000024.png  [-2.883901441465628, -2.864207095822907, 2.574...   \n",
       "S097_004_00000030.png  [-2.579307851247246, -2.4797427375243375, -2.4...   \n",
       "S055_001_00000012.png  [-2.3379498163730035, -2.293894571760886, 2.26...   \n",
       "S044_002_00000001.png  [-2.670952151583654, -2.6075464797159613, -2.7...   \n",
       "S106_004_00000001.png  [-2.3925258686429, -2.3399782619263503, -2.342...   \n",
       "S076_004_00000001.png  [-2.6322915095877812, -2.4956214628010356, -2....   \n",
       "S125_007_00000009.png  [-2.3672153606431108, -2.3720749957078584, 2.3...   \n",
       "S095_002_00000001.png  [-2.7546945145567743, -2.7814986470922944, 2.7...   \n",
       "S042_005_00000001.png  [-2.469843738210264, -2.482063768799045, -0.0,...   \n",
       "\n",
       "                                                                  coords  \n",
       "filename                                                                  \n",
       "S124_006_00000011.png  [-0.9057309136178561, -0.325497047081417, -0.8...  \n",
       "S062_004_00000024.png  [-0.9661300767465159, -0.24430875503934885, -0...  \n",
       "S097_004_00000030.png  [-0.8460392451288454, -0.5331206202181765, -0....  \n",
       "S055_001_00000012.png  [-0.7785592638593132, -0.41032177419612453, -0...  \n",
       "S044_002_00000001.png  [-0.8912780307610861, -0.45345724372055257, -0...  \n",
       "S106_004_00000001.png  [-0.7966629715906369, -0.42046101278394726, -0...  \n",
       "S076_004_00000001.png  [-0.8730854600909741, -0.48756720498586864, -0...  \n",
       "S125_007_00000009.png  [-0.7906442254257819, -0.39532211271289097, -0...  \n",
       "S095_002_00000001.png  [-0.9269573672893522, -0.3382141745515204, -0....  \n",
       "S042_005_00000001.png  [-0.818619173037878, -0.4614035338940767, -0.8...  "
      ]
     },
     "metadata": {},
     "output_type": "display_data"
    },
    {
     "data": {
      "text/html": [
       "<div>\n",
       "<style scoped>\n",
       "    .dataframe tbody tr th:only-of-type {\n",
       "        vertical-align: middle;\n",
       "    }\n",
       "\n",
       "    .dataframe tbody tr th {\n",
       "        vertical-align: top;\n",
       "    }\n",
       "\n",
       "    .dataframe thead th {\n",
       "        text-align: right;\n",
       "    }\n",
       "</style>\n",
       "<table border=\"1\" class=\"dataframe\">\n",
       "  <thead>\n",
       "    <tr style=\"text-align: right;\">\n",
       "      <th></th>\n",
       "      <th>mood</th>\n",
       "      <th>vectors</th>\n",
       "      <th>coords</th>\n",
       "    </tr>\n",
       "    <tr>\n",
       "      <th>filename</th>\n",
       "      <th></th>\n",
       "      <th></th>\n",
       "      <th></th>\n",
       "    </tr>\n",
       "  </thead>\n",
       "  <tbody>\n",
       "    <tr>\n",
       "      <th>Jiang_Zemin_0017.jpg</th>\n",
       "      <td>happiness</td>\n",
       "      <td>[-2.2363407267325943, -2.261744140024489, -2.3...</td>\n",
       "      <td>[-0.735383789420104, -0.45254387041237165, -0....</td>\n",
       "    </tr>\n",
       "    <tr>\n",
       "      <th>Nestor_Kirchner_0018.jpg</th>\n",
       "      <td>happiness</td>\n",
       "      <td>[-2.3667801122822847, -2.254600645641359, -2.2...</td>\n",
       "      <td>[-0.7881600233806609, -0.41538163394386185, -0...</td>\n",
       "    </tr>\n",
       "    <tr>\n",
       "      <th>Colin_Powell_0096.jpg</th>\n",
       "      <td>neutral</td>\n",
       "      <td>[-1.8728879308503652, -1.8552246989974097, 1.7...</td>\n",
       "      <td>[-0.6284711579916578, -0.27879547610156247, -0...</td>\n",
       "    </tr>\n",
       "    <tr>\n",
       "      <th>Angela_Merkel_0005.jpg</th>\n",
       "      <td>happiness</td>\n",
       "      <td>[-1.9973113030432956, -2.065306096649866, 2.04...</td>\n",
       "      <td>[-0.6713359954627804, -0.2767339217938179, -0....</td>\n",
       "    </tr>\n",
       "    <tr>\n",
       "      <th>Peter_Greenspun_0001.jpg</th>\n",
       "      <td>neutral</td>\n",
       "      <td>[-1.8479913140451125, -1.7761302035384758, 1.8...</td>\n",
       "      <td>[-0.6142230416625561, -0.33329932493317, -0.59...</td>\n",
       "    </tr>\n",
       "    <tr>\n",
       "      <th>Robin_McLaurin_Williams_0001.jpg</th>\n",
       "      <td>happiness</td>\n",
       "      <td>[-2.694575527870629, -2.7331014499283417, -2.8...</td>\n",
       "      <td>[-0.9017405420547894, -0.4322776825314197, -0....</td>\n",
       "    </tr>\n",
       "    <tr>\n",
       "      <th>Carol_Niedermayer_0001.jpg</th>\n",
       "      <td>happiness</td>\n",
       "      <td>[-2.871156528436793, -2.8447148775814495, 2.60...</td>\n",
       "      <td>[-0.9636544764238504, -0.2671517360382951, -0....</td>\n",
       "    </tr>\n",
       "    <tr>\n",
       "      <th>Elin_Nordegren_0002.jpg</th>\n",
       "      <td>happiness</td>\n",
       "      <td>[-1.6161897556968832, -1.6774867480695825, 1.7...</td>\n",
       "      <td>[-0.5371464208381328, -0.2917260733862273, -0....</td>\n",
       "    </tr>\n",
       "    <tr>\n",
       "      <th>Tom_Ridge_0005.jpg</th>\n",
       "      <td>anger</td>\n",
       "      <td>[-2.4770236566617503, -2.3892336951622264, -2....</td>\n",
       "      <td>[-0.8220541997879272, -0.4555963034969235, -0....</td>\n",
       "    </tr>\n",
       "    <tr>\n",
       "      <th>Arminio_Fraga_0005.jpg</th>\n",
       "      <td>neutral</td>\n",
       "      <td>[-1.9833473983458527, -1.9562183645492983, 1.9...</td>\n",
       "      <td>[-0.6633618822028522, -0.3220670007796456, -0....</td>\n",
       "    </tr>\n",
       "  </tbody>\n",
       "</table>\n",
       "</div>"
      ],
      "text/plain": [
       "                                       mood  \\\n",
       "filename                                      \n",
       "Jiang_Zemin_0017.jpg              happiness   \n",
       "Nestor_Kirchner_0018.jpg          happiness   \n",
       "Colin_Powell_0096.jpg               neutral   \n",
       "Angela_Merkel_0005.jpg            happiness   \n",
       "Peter_Greenspun_0001.jpg            neutral   \n",
       "Robin_McLaurin_Williams_0001.jpg  happiness   \n",
       "Carol_Niedermayer_0001.jpg        happiness   \n",
       "Elin_Nordegren_0002.jpg           happiness   \n",
       "Tom_Ridge_0005.jpg                    anger   \n",
       "Arminio_Fraga_0005.jpg              neutral   \n",
       "\n",
       "                                                                            vectors  \\\n",
       "filename                                                                              \n",
       "Jiang_Zemin_0017.jpg              [-2.2363407267325943, -2.261744140024489, -2.3...   \n",
       "Nestor_Kirchner_0018.jpg          [-2.3667801122822847, -2.254600645641359, -2.2...   \n",
       "Colin_Powell_0096.jpg             [-1.8728879308503652, -1.8552246989974097, 1.7...   \n",
       "Angela_Merkel_0005.jpg            [-1.9973113030432956, -2.065306096649866, 2.04...   \n",
       "Peter_Greenspun_0001.jpg          [-1.8479913140451125, -1.7761302035384758, 1.8...   \n",
       "Robin_McLaurin_Williams_0001.jpg  [-2.694575527870629, -2.7331014499283417, -2.8...   \n",
       "Carol_Niedermayer_0001.jpg        [-2.871156528436793, -2.8447148775814495, 2.60...   \n",
       "Elin_Nordegren_0002.jpg           [-1.6161897556968832, -1.6774867480695825, 1.7...   \n",
       "Tom_Ridge_0005.jpg                [-2.4770236566617503, -2.3892336951622264, -2....   \n",
       "Arminio_Fraga_0005.jpg            [-1.9833473983458527, -1.9562183645492983, 1.9...   \n",
       "\n",
       "                                                                             coords  \n",
       "filename                                                                             \n",
       "Jiang_Zemin_0017.jpg              [-0.735383789420104, -0.45254387041237165, -0....  \n",
       "Nestor_Kirchner_0018.jpg          [-0.7881600233806609, -0.41538163394386185, -0...  \n",
       "Colin_Powell_0096.jpg             [-0.6284711579916578, -0.27879547610156247, -0...  \n",
       "Angela_Merkel_0005.jpg            [-0.6713359954627804, -0.2767339217938179, -0....  \n",
       "Peter_Greenspun_0001.jpg          [-0.6142230416625561, -0.33329932493317, -0.59...  \n",
       "Robin_McLaurin_Williams_0001.jpg  [-0.9017405420547894, -0.4322776825314197, -0....  \n",
       "Carol_Niedermayer_0001.jpg        [-0.9636544764238504, -0.2671517360382951, -0....  \n",
       "Elin_Nordegren_0002.jpg           [-0.5371464208381328, -0.2917260733862273, -0....  \n",
       "Tom_Ridge_0005.jpg                [-0.8220541997879272, -0.4555963034969235, -0....  \n",
       "Arminio_Fraga_0005.jpg            [-0.6633618822028522, -0.3220670007796456, -0....  "
      ]
     },
     "metadata": {},
     "output_type": "display_data"
    }
   ],
   "source": [
    "# Create prelim df with filename and target emotion class (mood)\n",
    "data_path = '../dataset/'\n",
    "dataset1, dataset2 = 'ck', 'mux'\n",
    "model_path = '../trained_models/'\n",
    "moods = [k for k in os.listdir(data_path + dataset1 + '/') if '.' not in k]\n",
    "\n",
    "# load vectors & coords df\n",
    "def getVectorsData(dataset):\n",
    "    df = None\n",
    "    if os.path.isfile(data_path + dataset + '/df_vector_coods.csv'):\n",
    "        df = pd.read_csv(data_path + dataset + '/df_vector_coods.csv', index_col='filename')\n",
    "        df['vectors'] = df['vectors'].apply(json.loads)\n",
    "        df['coords'] = df['coords'].apply(json.loads)\n",
    "\n",
    "        indexNames = df[(df.vectors.str.len().eq(0)) | (df.coords.str.len().eq(0))].index \n",
    "        indexNames = list(indexNames)\n",
    "        for index,row in df.iterrows():\n",
    "            if len(row['vectors']) != 68:\n",
    "                indexNames.append(index)\n",
    "        print('Deleted',len(indexNames),'rows.')\n",
    "        df.drop(indexNames , inplace=True)\n",
    "    else:\n",
    "        print('[%s] Vectors & coords data does not exist.' % dataset)\n",
    "    return df\n",
    "\n",
    "df_ck = getVectorsData(dataset1)\n",
    "df_mux = getVectorsData(dataset2)\n",
    "    \n",
    "display(df_ck.sample(10))\n",
    "display(df_mux.sample(10))\n",
    "    \n",
    "# load graylevels Numpy arrays\n",
    "def getGrayLevelsData(dataset):\n",
    "    cropped_dataseta, cropped_target = None, None\n",
    "    file_path = data_path + dataset + '/graylevels_data.npy'\n",
    "    if os.path.isfile(file_path):\n",
    "        with open(file_path, 'rb') as f:\n",
    "            cropped_dataset = np.load(f)\n",
    "            cropped_target = np.load(f)\n",
    "    else:\n",
    "        print('Graylevels data does not exist.')\n",
    "    return cropped_dataset, cropped_target\n",
    "\n",
    "ck_cropped_dataset, ck_cropped_target = getGrayLevelsData(dataset1)\n",
    "mux_cropped_dataset, mux_cropped_target = getGrayLevelsData(dataset2)\n",
    "\n",
    "dim = 50"
   ]
  },
  {
   "cell_type": "code",
   "execution_count": 5,
   "id": "1bab7347",
   "metadata": {},
   "outputs": [],
   "source": [
    "# Functions for finding vector magnitude and direction\n",
    "def mag(pointA, pointB):\n",
    "    x = pointA[0] - pointB[0]\n",
    "    y = pointA[1] - pointB[1]\n",
    "    return math.sqrt(x*x + y*y)\n",
    "\n",
    "# find angle between two points (-pi to pi rads)\n",
    "def angle(cog, point):\n",
    "    x = point[0] - cog[0]\n",
    "    y = point[1] - cog[1]\n",
    "    \n",
    "    if not x:\n",
    "        return math.pi/2 if y>0 else -math.pi/2\n",
    "        \n",
    "    angle = math.atan(y/x)\n",
    "    if x<0 and y>0: # 2nd quadrant\n",
    "        angle += math.pi\n",
    "    elif x<0 and y<0: # 3rd quadrant\n",
    "        angle -= math.pi\n",
    "    return angle"
   ]
  },
  {
   "cell_type": "markdown",
   "id": "b6e9793b",
   "metadata": {},
   "source": [
    "# Model training"
   ]
  },
  {
   "cell_type": "code",
   "execution_count": 6,
   "id": "814782c5",
   "metadata": {},
   "outputs": [
    {
     "name": "stdout",
     "output_type": "stream",
     "text": [
      "Segmentation Models: using `tf.keras` framework.\n"
     ]
    }
   ],
   "source": [
    "from keras.layers import Dense, Input, Dropout, Flatten, BatchNormalization, Activation\n",
    "from keras.layers import GlobalAveragePooling2D, Conv2D, MaxPooling2D\n",
    "from keras.layers import GlobalAveragePooling1D, Conv1D, MaxPooling1D\n",
    "from keras.models import Sequential, load_model\n",
    "from tensorflow.keras.optimizers import Adam, SGD, RMSprop\n",
    "from tensorflow.keras.utils import to_categorical\n",
    "from keras.callbacks import EarlyStopping, ModelCheckpoint\n",
    "\n",
    "from sklearn.pipeline import Pipeline\n",
    "from sklearn.preprocessing import StandardScaler, LabelEncoder, OneHotEncoder\n",
    "from sklearn.model_selection import train_test_split, GridSearchCV\n",
    "from sklearn import svm\n",
    "from sklearn.metrics import accuracy_score\n",
    "\n",
    "os.environ['CUDA_VISIBLE_DEVICES'] = '0'\n",
    "os.environ[\"SM_FRAMEWORK\"] = \"tf.keras\"\n",
    "\n",
    "from tensorflow import keras\n",
    "import segmentation_models as sm"
   ]
  },
  {
   "cell_type": "markdown",
   "id": "c37c3214",
   "metadata": {},
   "source": [
    "## Functions\n",
    "The following functions are used for building, training and evaluation of CNN models for inputs of vectors, coordinates and image graylevels."
   ]
  },
  {
   "cell_type": "code",
   "execution_count": 7,
   "id": "77135a89",
   "metadata": {},
   "outputs": [],
   "source": [
    "num_classes = len(moods)\n",
    "\n",
    "def build_cnn(model_name, model_num, input_shape):\n",
    "    print('Building model...', end=' ')\n",
    "    model = Sequential()\n",
    "\n",
    "    # CS3237 model for coords & vectors\n",
    "    if model_num == 1:\n",
    "        model.add(Conv1D(32, kernel_size=5, activation='relu', input_shape=input_shape, padding='same'))\n",
    "        model.add(MaxPooling1D(pool_size=2, strides=2))\n",
    "        model.add(Conv1D(64, kernel_size=5, activation='relu'))\n",
    "        model.add(Conv1D(128, kernel_size=5, activation='relu'))\n",
    "        model.add(Conv1D(64, kernel_size=5, activation='relu'))\n",
    "        model.add(MaxPooling1D(pool_size=2, strides=2))\n",
    "        model.add(Flatten())\n",
    "        model.add(Dense(1024, activation='relu'))\n",
    "        model.add(Dropout(0.1))\n",
    "\n",
    "    # Ansamma's model\n",
    "    if model_num == 2:\n",
    "        model.add(Conv1D(64, kernel_size=5, activation='relu', input_shape=input_shape, padding='same'))\n",
    "        model.add(MaxPooling1D(pool_size=2, strides=2))\n",
    "        model.add(Conv1D(128, kernel_size=3, activation='relu'))\n",
    "        model.add(MaxPooling1D(pool_size=2, strides=2))\n",
    "        model.add(Conv1D(512, kernel_size=3, activation='relu'))\n",
    "        model.add(MaxPooling1D(pool_size=2, strides=2))\n",
    "        model.add(Conv1D(512, kernel_size=3, activation='relu'))\n",
    "        model.add(MaxPooling1D(pool_size=2, strides=2))\n",
    "        model.add(Flatten())\n",
    "        model.add(Dense(256, activation='relu'))\n",
    "        model.add(Dense(512, activation='relu'))\n",
    "        model.add(Dropout(0.1))\n",
    "\n",
    "    # CS3237 model for image graylevels\n",
    "    if model_num == 3:\n",
    "        model.add(Conv2D(32, kernel_size=(5,5), activation='relu', input_shape=input_shape, padding='same'))\n",
    "        model.add(MaxPooling2D(pool_size=(2,2), strides=2))\n",
    "        model.add(Conv2D(64, kernel_size=(5,5), activation='relu'))\n",
    "#         model.add(Conv2D(128, kernel_size=(5,5), activation='relu'))\n",
    "#         model.add(Conv2D(64, kernel_size=(5,5), activation='relu'))\n",
    "        model.add(MaxPooling2D(pool_size=(2,2), strides=2))\n",
    "        model.add(Flatten())\n",
    "        model.add(Dense(50, activation='relu'))\n",
    "        model.add(Dropout(0.1))\n",
    "\n",
    "    model.add(Dense(num_classes, activation='softmax'))\n",
    "\n",
    "    print('Model built.')\n",
    "    \n",
    "    return model"
   ]
  },
  {
   "cell_type": "code",
   "execution_count": 8,
   "id": "61a8333e",
   "metadata": {},
   "outputs": [],
   "source": [
    "def train_cnn(model, data, epochs, model_name, verbose=False, plots=True):\n",
    "    \n",
    "    x_train, y_train, x_val, y_val, x_test, y_test = data[0], data[1], data[2], data[3], data[4], data[5]\n",
    "#     opt = Adam(learning_rate = 0.0001)\n",
    "    opt = SGD(learning_rate=0.01, momentum=0.7)\n",
    "    model.compile(optimizer=opt, loss='categorical_crossentropy', metrics=['accuracy'])\n",
    "\n",
    "    savemodel = ModelCheckpoint(model_name)\n",
    "    stopmodel = EarlyStopping(min_delta=0.001, patience=10)\n",
    "\n",
    "    print(\"Starting training...\")\n",
    "    start = time.time()\n",
    "    history = model.fit(x=x_train, y=y_train, batch_size=64,\n",
    "              validation_data=(x_val,y_val), shuffle=True,\n",
    "              epochs=epochs, verbose=verbose,\n",
    "              callbacks=[savemodel,stopmodel])\n",
    "    end = time.time()\n",
    "    tt = end - start\n",
    "    print(\"Done (%d epochs). Time taken: %dm%ds.\" % (len(history.history['loss']), tt//60, tt%60))\n",
    "    \n",
    "    if plots:\n",
    "        # plot loss\n",
    "        plt.title('Cross Entropy Loss')\n",
    "        plt.plot(history.history['loss'], color='blue', label='train')\n",
    "        plt.plot(history.history['val_loss'], color='orange', label='validation')\n",
    "        ymax = max([1, max(history.history['loss'])+0.05, max(history.history['val_loss'])+0.05])\n",
    "        plt.ylim(0,ymax)\n",
    "        plt.legend()\n",
    "        plt.show()\n",
    "\n",
    "        # plot accuracy\n",
    "        plt.title('Classification Accuracy')\n",
    "        plt.plot(history.history['accuracy'], color='blue', label='train')\n",
    "        plt.plot(history.history['val_accuracy'], color='orange', label='validation')\n",
    "        plt.ylim(0,1)\n",
    "        plt.legend()\n",
    "        plt.show()"
   ]
  },
  {
   "cell_type": "code",
   "execution_count": 9,
   "id": "cd66cc73",
   "metadata": {},
   "outputs": [],
   "source": [
    "def evaluate_cnn(model_name, data, tag=\"\"):\n",
    "    tag += \" \" if tag else \"\"\n",
    "    model = load_model(model_name)\n",
    "    x_train, y_train, x_val, y_val, x_test, y_test = data[0], data[1], data[2], data[3], data[4], data[5]\n",
    "    loss_tr, acc_tr = model.evaluate(x=x_train, y=y_train, verbose=False)\n",
    "    loss_val, acc_val = model.evaluate(x=x_val, y=y_val, verbose=False)\n",
    "    loss_ts, acc_ts = model.evaluate(x=x_test, y=y_test, verbose=False)\n",
    "    print(tag + 'Train accuracy: %.4f, loss: %.4f' % (acc_tr, loss_tr))\n",
    "    print(tag + 'Validation accuracy: %.4f, loss: %.4f' % (acc_val, loss_val))\n",
    "    print(tag + 'Test accuracy: %4.3f, loss: %4.3f' % (acc_ts, loss_ts))\n",
    "    return (acc_tr, acc_val, acc_ts)"
   ]
  },
  {
   "cell_type": "markdown",
   "id": "4ca20c96",
   "metadata": {},
   "source": [
    "## CNN\n",
    "CNN models trained on vectors and coordinates."
   ]
  },
  {
   "cell_type": "markdown",
   "id": "159b62a6",
   "metadata": {},
   "source": [
    "### CNN Datasets\n",
    "Separate datasets ```cnn_vectors_only_data``` and ```cnn_vectors_coords_data``` for dataset with vectors only and dataset with both vectors and coordinates."
   ]
  },
  {
   "cell_type": "code",
   "execution_count": 10,
   "id": "bd8ccd59",
   "metadata": {
    "scrolled": true
   },
   "outputs": [
    {
     "name": "stdout",
     "output_type": "stream",
     "text": [
      "One hot encoded:\n"
     ]
    },
    {
     "data": {
      "text/html": [
       "<div>\n",
       "<style scoped>\n",
       "    .dataframe tbody tr th:only-of-type {\n",
       "        vertical-align: middle;\n",
       "    }\n",
       "\n",
       "    .dataframe tbody tr th {\n",
       "        vertical-align: top;\n",
       "    }\n",
       "\n",
       "    .dataframe thead th {\n",
       "        text-align: right;\n",
       "    }\n",
       "</style>\n",
       "<table border=\"1\" class=\"dataframe\">\n",
       "  <thead>\n",
       "    <tr style=\"text-align: right;\">\n",
       "      <th></th>\n",
       "      <th>anger</th>\n",
       "      <th>contempt</th>\n",
       "      <th>disgust</th>\n",
       "      <th>fear</th>\n",
       "      <th>happiness</th>\n",
       "      <th>neutral</th>\n",
       "      <th>sadness</th>\n",
       "      <th>surprise</th>\n",
       "      <th>vectors</th>\n",
       "      <th>coords</th>\n",
       "    </tr>\n",
       "    <tr>\n",
       "      <th>filename</th>\n",
       "      <th></th>\n",
       "      <th></th>\n",
       "      <th></th>\n",
       "      <th></th>\n",
       "      <th></th>\n",
       "      <th></th>\n",
       "      <th></th>\n",
       "      <th></th>\n",
       "      <th></th>\n",
       "      <th></th>\n",
       "    </tr>\n",
       "  </thead>\n",
       "  <tbody>\n",
       "    <tr>\n",
       "      <th>S113_006_00000001.png</th>\n",
       "      <td>0</td>\n",
       "      <td>0</td>\n",
       "      <td>0</td>\n",
       "      <td>0</td>\n",
       "      <td>0</td>\n",
       "      <td>1</td>\n",
       "      <td>0</td>\n",
       "      <td>0</td>\n",
       "      <td>[-2.584380831969058, -2.5095625422834247, 2.45...</td>\n",
       "      <td>[-0.8676312375457998, -0.3781982317507333, -0....</td>\n",
       "    </tr>\n",
       "    <tr>\n",
       "      <th>S072_005_00000019.png</th>\n",
       "      <td>1</td>\n",
       "      <td>0</td>\n",
       "      <td>0</td>\n",
       "      <td>0</td>\n",
       "      <td>0</td>\n",
       "      <td>0</td>\n",
       "      <td>0</td>\n",
       "      <td>0</td>\n",
       "      <td>[-2.6882539577352302, -2.6153443616312027, -0....</td>\n",
       "      <td>[-0.8989898688372694, -0.43796942327969535, -0...</td>\n",
       "    </tr>\n",
       "    <tr>\n",
       "      <th>S129_011_00000001.png</th>\n",
       "      <td>0</td>\n",
       "      <td>0</td>\n",
       "      <td>0</td>\n",
       "      <td>0</td>\n",
       "      <td>0</td>\n",
       "      <td>1</td>\n",
       "      <td>0</td>\n",
       "      <td>0</td>\n",
       "      <td>[-2.541172725025214, -2.4142540588967663, -2.4...</td>\n",
       "      <td>[-0.8460797752701906, -0.4472135954999579, -0....</td>\n",
       "    </tr>\n",
       "    <tr>\n",
       "      <th>S131_004_00000001.png</th>\n",
       "      <td>0</td>\n",
       "      <td>0</td>\n",
       "      <td>0</td>\n",
       "      <td>0</td>\n",
       "      <td>0</td>\n",
       "      <td>1</td>\n",
       "      <td>0</td>\n",
       "      <td>0</td>\n",
       "      <td>[-2.5545897999625207, -2.4586617945524742, 2.3...</td>\n",
       "      <td>[-0.8563543449890578, -0.39249574145331817, -0...</td>\n",
       "    </tr>\n",
       "    <tr>\n",
       "      <th>S067_006_00000011.png</th>\n",
       "      <td>0</td>\n",
       "      <td>0</td>\n",
       "      <td>1</td>\n",
       "      <td>0</td>\n",
       "      <td>0</td>\n",
       "      <td>0</td>\n",
       "      <td>0</td>\n",
       "      <td>0</td>\n",
       "      <td>[-2.5717119733136156, -2.5396258448362947, 2.3...</td>\n",
       "      <td>[-0.8650178612331296, -0.28021705363890115, -0...</td>\n",
       "    </tr>\n",
       "  </tbody>\n",
       "</table>\n",
       "</div>"
      ],
      "text/plain": [
       "                       anger  contempt  disgust  fear  happiness  neutral  \\\n",
       "filename                                                                    \n",
       "S113_006_00000001.png      0         0        0     0          0        1   \n",
       "S072_005_00000019.png      1         0        0     0          0        0   \n",
       "S129_011_00000001.png      0         0        0     0          0        1   \n",
       "S131_004_00000001.png      0         0        0     0          0        1   \n",
       "S067_006_00000011.png      0         0        1     0          0        0   \n",
       "\n",
       "                       sadness  surprise  \\\n",
       "filename                                   \n",
       "S113_006_00000001.png        0         0   \n",
       "S072_005_00000019.png        0         0   \n",
       "S129_011_00000001.png        0         0   \n",
       "S131_004_00000001.png        0         0   \n",
       "S067_006_00000011.png        0         0   \n",
       "\n",
       "                                                                 vectors  \\\n",
       "filename                                                                   \n",
       "S113_006_00000001.png  [-2.584380831969058, -2.5095625422834247, 2.45...   \n",
       "S072_005_00000019.png  [-2.6882539577352302, -2.6153443616312027, -0....   \n",
       "S129_011_00000001.png  [-2.541172725025214, -2.4142540588967663, -2.4...   \n",
       "S131_004_00000001.png  [-2.5545897999625207, -2.4586617945524742, 2.3...   \n",
       "S067_006_00000011.png  [-2.5717119733136156, -2.5396258448362947, 2.3...   \n",
       "\n",
       "                                                                  coords  \n",
       "filename                                                                  \n",
       "S113_006_00000001.png  [-0.8676312375457998, -0.3781982317507333, -0....  \n",
       "S072_005_00000019.png  [-0.8989898688372694, -0.43796942327969535, -0...  \n",
       "S129_011_00000001.png  [-0.8460797752701906, -0.4472135954999579, -0....  \n",
       "S131_004_00000001.png  [-0.8563543449890578, -0.39249574145331817, -0...  \n",
       "S067_006_00000011.png  [-0.8650178612331296, -0.28021705363890115, -0...  "
      ]
     },
     "metadata": {},
     "output_type": "display_data"
    }
   ],
   "source": [
    "# One hot encoding for emotion\n",
    "cnn_ck_data = pd.get_dummies(df_ck.mood).join(df_ck.loc[:,['vectors','coords']])\n",
    "emotion_classes = cnn_ck_data.columns[:len(moods)]\n",
    "print('One hot encoded:')\n",
    "display(cnn_ck_data.sample(5))"
   ]
  },
  {
   "cell_type": "code",
   "execution_count": 11,
   "id": "7cd7e018",
   "metadata": {},
   "outputs": [
    {
     "name": "stdout",
     "output_type": "stream",
     "text": [
      "One hot encoded:\n"
     ]
    },
    {
     "data": {
      "text/html": [
       "<div>\n",
       "<style scoped>\n",
       "    .dataframe tbody tr th:only-of-type {\n",
       "        vertical-align: middle;\n",
       "    }\n",
       "\n",
       "    .dataframe tbody tr th {\n",
       "        vertical-align: top;\n",
       "    }\n",
       "\n",
       "    .dataframe thead th {\n",
       "        text-align: right;\n",
       "    }\n",
       "</style>\n",
       "<table border=\"1\" class=\"dataframe\">\n",
       "  <thead>\n",
       "    <tr style=\"text-align: right;\">\n",
       "      <th></th>\n",
       "      <th>anger</th>\n",
       "      <th>contempt</th>\n",
       "      <th>disgust</th>\n",
       "      <th>fear</th>\n",
       "      <th>happiness</th>\n",
       "      <th>neutral</th>\n",
       "      <th>sadness</th>\n",
       "      <th>surprise</th>\n",
       "      <th>vectors</th>\n",
       "      <th>coords</th>\n",
       "    </tr>\n",
       "    <tr>\n",
       "      <th>filename</th>\n",
       "      <th></th>\n",
       "      <th></th>\n",
       "      <th></th>\n",
       "      <th></th>\n",
       "      <th></th>\n",
       "      <th></th>\n",
       "      <th></th>\n",
       "      <th></th>\n",
       "      <th></th>\n",
       "      <th></th>\n",
       "    </tr>\n",
       "  </thead>\n",
       "  <tbody>\n",
       "    <tr>\n",
       "      <th>Jose_Theodore_0001.jpg</th>\n",
       "      <td>0</td>\n",
       "      <td>0</td>\n",
       "      <td>0</td>\n",
       "      <td>0</td>\n",
       "      <td>1</td>\n",
       "      <td>0</td>\n",
       "      <td>0</td>\n",
       "      <td>0</td>\n",
       "      <td>[-2.567925985421632, -2.5353528438429556, -2.5...</td>\n",
       "      <td>[-0.839916668496564, -0.5427153857977798, -0.8...</td>\n",
       "    </tr>\n",
       "    <tr>\n",
       "      <th>S058_005_00000010.png</th>\n",
       "      <td>1</td>\n",
       "      <td>0</td>\n",
       "      <td>0</td>\n",
       "      <td>0</td>\n",
       "      <td>0</td>\n",
       "      <td>0</td>\n",
       "      <td>0</td>\n",
       "      <td>0</td>\n",
       "      <td>[-2.6535596354162685, -2.566427458956523, -2.5...</td>\n",
       "      <td>[-0.8832568637022026, -0.4688894461628976, -0....</td>\n",
       "    </tr>\n",
       "    <tr>\n",
       "      <th>Hamid_Reza_Asefi_0001.jpg</th>\n",
       "      <td>0</td>\n",
       "      <td>0</td>\n",
       "      <td>0</td>\n",
       "      <td>0</td>\n",
       "      <td>1</td>\n",
       "      <td>0</td>\n",
       "      <td>0</td>\n",
       "      <td>0</td>\n",
       "      <td>[-1.6961317010211985, 1.7467637502802056, 1.58...</td>\n",
       "      <td>[-0.5674529902297832, -0.13531571305479448, -0...</td>\n",
       "    </tr>\n",
       "    <tr>\n",
       "      <th>Jon_Voight_0001.jpg</th>\n",
       "      <td>0</td>\n",
       "      <td>0</td>\n",
       "      <td>0</td>\n",
       "      <td>0</td>\n",
       "      <td>1</td>\n",
       "      <td>0</td>\n",
       "      <td>0</td>\n",
       "      <td>0</td>\n",
       "      <td>[-2.4113462040979963, -2.399846885791698, 2.16...</td>\n",
       "      <td>[-0.8081496597291502, -0.20823488164800188, -0...</td>\n",
       "    </tr>\n",
       "    <tr>\n",
       "      <th>Kweisi_Mfume_0001.jpg</th>\n",
       "      <td>0</td>\n",
       "      <td>0</td>\n",
       "      <td>0</td>\n",
       "      <td>0</td>\n",
       "      <td>0</td>\n",
       "      <td>1</td>\n",
       "      <td>0</td>\n",
       "      <td>0</td>\n",
       "      <td>[-2.8677506173626504, -2.8315381532521737, 2.5...</td>\n",
       "      <td>[-0.962738993825267, -0.27043230163631093, -0....</td>\n",
       "    </tr>\n",
       "  </tbody>\n",
       "</table>\n",
       "</div>"
      ],
      "text/plain": [
       "                           anger  contempt  disgust  fear  happiness  neutral  \\\n",
       "filename                                                                        \n",
       "Jose_Theodore_0001.jpg         0         0        0     0          1        0   \n",
       "S058_005_00000010.png          1         0        0     0          0        0   \n",
       "Hamid_Reza_Asefi_0001.jpg      0         0        0     0          1        0   \n",
       "Jon_Voight_0001.jpg            0         0        0     0          1        0   \n",
       "Kweisi_Mfume_0001.jpg          0         0        0     0          0        1   \n",
       "\n",
       "                           sadness  surprise  \\\n",
       "filename                                       \n",
       "Jose_Theodore_0001.jpg           0         0   \n",
       "S058_005_00000010.png            0         0   \n",
       "Hamid_Reza_Asefi_0001.jpg        0         0   \n",
       "Jon_Voight_0001.jpg              0         0   \n",
       "Kweisi_Mfume_0001.jpg            0         0   \n",
       "\n",
       "                                                                     vectors  \\\n",
       "filename                                                                       \n",
       "Jose_Theodore_0001.jpg     [-2.567925985421632, -2.5353528438429556, -2.5...   \n",
       "S058_005_00000010.png      [-2.6535596354162685, -2.566427458956523, -2.5...   \n",
       "Hamid_Reza_Asefi_0001.jpg  [-1.6961317010211985, 1.7467637502802056, 1.58...   \n",
       "Jon_Voight_0001.jpg        [-2.4113462040979963, -2.399846885791698, 2.16...   \n",
       "Kweisi_Mfume_0001.jpg      [-2.8677506173626504, -2.8315381532521737, 2.5...   \n",
       "\n",
       "                                                                      coords  \n",
       "filename                                                                      \n",
       "Jose_Theodore_0001.jpg     [-0.839916668496564, -0.5427153857977798, -0.8...  \n",
       "S058_005_00000010.png      [-0.8832568637022026, -0.4688894461628976, -0....  \n",
       "Hamid_Reza_Asefi_0001.jpg  [-0.5674529902297832, -0.13531571305479448, -0...  \n",
       "Jon_Voight_0001.jpg        [-0.8081496597291502, -0.20823488164800188, -0...  \n",
       "Kweisi_Mfume_0001.jpg      [-0.962738993825267, -0.27043230163631093, -0....  "
      ]
     },
     "metadata": {},
     "output_type": "display_data"
    }
   ],
   "source": [
    "# One hot encoding for emotion\n",
    "cnn_mux_data = pd.get_dummies(df_mux.mood).join(df_mux.loc[:,['vectors','coords']])\n",
    "emotion_classes = cnn_mux_data.columns[:len(moods)]\n",
    "print('One hot encoded:')\n",
    "display(cnn_mux_data.sample(5))"
   ]
  },
  {
   "cell_type": "code",
   "execution_count": 31,
   "id": "6649a0f9",
   "metadata": {},
   "outputs": [
    {
     "name": "stdout",
     "output_type": "stream",
     "text": [
      "(Vectors Only) Train X shape: (8581, 68, 1)\n",
      "(Vectors Only) Train Y shape: (8581, 8)\n"
     ]
    }
   ],
   "source": [
    "# Dataset for vectors only\n",
    "# split into train, val and test\n",
    "cnn_data_this = cnn_mux_data\n",
    "x = np.array([k for k in cnn_data_this['vectors'].values])\n",
    "y = cnn_data_this.iloc[:,:8].values\n",
    "x_train, x_test, y_train, y_test = train_test_split(x, y, test_size=0.20, random_state=0)\n",
    "x_train, x_val, y_train, y_val = train_test_split(x_train, y_train, test_size=0.20, random_state=0)\n",
    "\n",
    "# reshape for CNN\n",
    "x_train = x_train.reshape(x_train.shape[0], x_train.shape[1], 1)\n",
    "x_val = x_val.reshape(x_val.shape[0], x_val.shape[1], 1)\n",
    "x_test = x_test.reshape(x_test.shape[0], x_test.shape[1], 1)\n",
    "\n",
    "cnn_vectors_only_data = [x_train, y_train, x_val, y_val, x_test, y_test]\n",
    "\n",
    "print('(Vectors Only) Train X shape:', x_train.shape)\n",
    "print('(Vectors Only) Train Y shape:', y_train.shape)"
   ]
  },
  {
   "cell_type": "code",
   "execution_count": 33,
   "id": "95f9a58b",
   "metadata": {},
   "outputs": [
    {
     "name": "stdout",
     "output_type": "stream",
     "text": [
      "(Vectors & Coords) Train X shape: (8581, 204, 1)\n",
      "(Vectors & Coords) Train Y shape: (8581, 8)\n"
     ]
    }
   ],
   "source": [
    "# Dataset for vectors & coords\n",
    "# split into train, val and test\n",
    "cnn_data_this = cnn_mux_data\n",
    "x = np.c_[np.array([k for k in cnn_data_this['vectors'].values]), np.array([k for k in cnn_data_this['coords'].values])]\n",
    "y = cnn_data_this.iloc[:,:8].values\n",
    "x_train, x_test, y_train, y_test = train_test_split(x, y, test_size=0.20, random_state=0)\n",
    "x_train, x_val, y_train, y_val = train_test_split(x_train, y_train, test_size=0.20, random_state=0)\n",
    "\n",
    "# reshape for CNN\n",
    "x_train = x_train.reshape(x_train.shape[0], x_train.shape[1], 1)\n",
    "x_val = x_val.reshape(x_val.shape[0], x_val.shape[1], 1)\n",
    "x_test = x_test.reshape(x_test.shape[0], x_test.shape[1], 1)\n",
    "\n",
    "cnn_vectors_coords_data = [x_train, y_train, x_val, y_val, x_test, y_test]\n",
    "\n",
    "print('(Vectors & Coords) Train X shape:', x_train.shape)\n",
    "print('(Vectors & Coords) Train Y shape:', y_train.shape)"
   ]
  },
  {
   "cell_type": "markdown",
   "id": "cafc57b0",
   "metadata": {},
   "source": [
    "### CNN Models"
   ]
  },
  {
   "cell_type": "code",
   "execution_count": 35,
   "id": "c5ab3501",
   "metadata": {},
   "outputs": [
    {
     "name": "stdout",
     "output_type": "stream",
     "text": [
      "Building model... Model built.\n",
      "Starting training...\n",
      "Done (77 epochs). Time taken: 2m43s.\n"
     ]
    },
    {
     "data": {
      "image/png": "[encoded data removed]",
      "text/plain": [
       "<Figure size 432x288 with 1 Axes>"
      ]
     },
     "metadata": {
      "needs_background": "light"
     },
     "output_type": "display_data"
    },
    {
     "data": {
      "image/png": "[encoded data removed]",
      "text/plain": [
       "<Figure size 432x288 with 1 Axes>"
      ]
     },
     "metadata": {
      "needs_background": "light"
     },
     "output_type": "display_data"
    },
    {
     "name": "stdout",
     "output_type": "stream",
     "text": [
      "Train accuracy: 0.7436, loss: 0.7012\n",
      "Validation accuracy: 0.7493, loss: 0.7421\n",
      "Test accuracy: 0.742, loss: 0.741\n"
     ]
    }
   ],
   "source": [
    "# CNN1: CS3237 model (Vectors only)\n",
    "MODEL_NAME = model_path + 'emotion-cnn4.hd5'\n",
    "model = build_cnn(MODEL_NAME, 1, (cnn_vectors_only_data[0].shape[1],1))\n",
    "train_cnn(model, cnn_vectors_only_data, 200, MODEL_NAME)\n",
    "cnn4_acc = evaluate_cnn(MODEL_NAME, cnn_vectors_only_data)"
   ]
  },
  {
   "cell_type": "code",
   "execution_count": null,
   "id": "2ce16fd5",
   "metadata": {},
   "outputs": [],
   "source": [
    "# CNN2: Ansamma's model (Vectors only)\n",
    "MODEL_NAME = model_path + 'emotion-cnn2.hd5'\n",
    "model = build_cnn(MODEL_NAME, 2, (68,1))\n",
    "train_cnn(model, cnn_vectors_only_data, 200, MODEL_NAME)\n",
    "cnn2_acc = evaluate_cnn(MODEL_NAME, cnn_vectors_only_data)"
   ]
  },
  {
   "cell_type": "code",
   "execution_count": 36,
   "id": "ddc89e19",
   "metadata": {
    "scrolled": true
   },
   "outputs": [
    {
     "name": "stdout",
     "output_type": "stream",
     "text": [
      "Building model... Model built.\n",
      "Starting training...\n",
      "Done (72 epochs). Time taken: 2m44s.\n"
     ]
    },
    {
     "data": {
      "image/png": "[encoded data removed]",
      "text/plain": [
       "<Figure size 432x288 with 1 Axes>"
      ]
     },
     "metadata": {
      "needs_background": "light"
     },
     "output_type": "display_data"
    },
    {
     "data": {
      "image/png": "[encoded data removed]",
      "text/plain": [
       "<Figure size 432x288 with 1 Axes>"
      ]
     },
     "metadata": {
      "needs_background": "light"
     },
     "output_type": "display_data"
    },
    {
     "name": "stdout",
     "output_type": "stream",
     "text": [
      "Train accuracy: 0.8341, loss: 0.4819\n",
      "Validation accuracy: 0.8173, loss: 0.5492\n",
      "Test accuracy: 0.830, loss: 0.503\n"
     ]
    }
   ],
   "source": [
    "# CNN3: CS3237 model (Vectors & coords)\n",
    "MODEL_NAME = model_path + 'emotion-cnn6.hd5'\n",
    "model = build_cnn(MODEL_NAME, 1, (cnn_vectors_coords_data[0].shape[1],1))\n",
    "train_cnn(model, cnn_vectors_coords_data, 200, MODEL_NAME)\n",
    "cnn6_acc = evaluate_cnn(MODEL_NAME, cnn_vectors_coords_data)"
   ]
  },
  {
   "cell_type": "code",
   "execution_count": 30,
   "id": "7783598f",
   "metadata": {},
   "outputs": [
    {
     "name": "stdout",
     "output_type": "stream",
     "text": [
      "CNN1 Train accuracy: 0.8197, loss: 0.5859\n",
      "CNN1 Validation accuracy: 0.7973, loss: 0.7013\n",
      "CNN1 Test accuracy: 0.739, loss: 0.790\n",
      "\n",
      "CNN2 Train accuracy: 0.9099, loss: 0.2785\n",
      "CNN2 Validation accuracy: 0.8649, loss: 0.3857\n",
      "CNN2 Test accuracy: 0.864, loss: 0.618\n",
      "\n",
      "CNN3 Train accuracy: 0.8844, loss: 0.3435\n",
      "CNN3 Validation accuracy: 0.8514, loss: 0.4264\n",
      "CNN3 Test accuracy: 0.853, loss: 0.555\n",
      "\n"
     ]
    }
   ],
   "source": [
    "cnn1_acc = evaluate_cnn(model_path + 'emotion-cnn1.hd5', cnn_vectors_only_data, 'CNN1')\n",
    "print()\n",
    "cnn2_acc = evaluate_cnn(model_path + 'emotion-cnn2.hd5', cnn_vectors_only_data, 'CNN2')\n",
    "print()\n",
    "cnn3_acc = evaluate_cnn(model_path + 'emotion-cnn3.hd5', cnn_vectors_coords_data, 'CNN3')\n",
    "print()"
   ]
  },
  {
   "cell_type": "code",
   "execution_count": 38,
   "id": "6daae5b7",
   "metadata": {},
   "outputs": [
    {
     "name": "stdout",
     "output_type": "stream",
     "text": [
      "CNN4 Train accuracy: 0.7436, loss: 0.7012\n",
      "CNN4 Validation accuracy: 0.7493, loss: 0.7421\n",
      "CNN4 Test accuracy: 0.742, loss: 0.741\n",
      "\n",
      "CNN5 Train accuracy: 0.8484, loss: 0.4543\n",
      "CNN5 Validation accuracy: 0.8257, loss: 0.5461\n",
      "CNN5 Test accuracy: 0.834, loss: 0.518\n",
      "\n",
      "CNN6 Train accuracy: 0.8341, loss: 0.4819\n",
      "CNN6 Validation accuracy: 0.8173, loss: 0.5492\n",
      "CNN6 Test accuracy: 0.830, loss: 0.503\n",
      "\n"
     ]
    }
   ],
   "source": [
    "cnn4_acc = evaluate_cnn(model_path + 'emotion-cnn4.hd5', cnn_vectors_only_data, 'CNN4')\n",
    "print()\n",
    "cnn5_acc = evaluate_cnn(model_path + 'emotion-cnn5.hd5', cnn_vectors_only_data, 'CNN5')\n",
    "print()\n",
    "cnn6_acc = evaluate_cnn(model_path + 'emotion-cnn6.hd5', cnn_vectors_coords_data, 'CNN6')\n",
    "print()"
   ]
  },
  {
   "cell_type": "markdown",
   "id": "10f00957",
   "metadata": {},
   "source": [
    "## SVM"
   ]
  },
  {
   "cell_type": "markdown",
   "id": "c20c8c6e",
   "metadata": {},
   "source": [
    "### SVM Datasets\n",
    "Separate datasets ```svm_vectors_only_data``` and ```svm_vectors_coords_data``` for dataset with vectors only and dataset with both vectors and coordinates."
   ]
  },
  {
   "cell_type": "code",
   "execution_count": 19,
   "id": "7de19fdc",
   "metadata": {},
   "outputs": [
    {
     "name": "stdout",
     "output_type": "stream",
     "text": [
      "Label encoded:\n"
     ]
    },
    {
     "data": {
      "text/html": [
       "<div>\n",
       "<style scoped>\n",
       "    .dataframe tbody tr th:only-of-type {\n",
       "        vertical-align: middle;\n",
       "    }\n",
       "\n",
       "    .dataframe tbody tr th {\n",
       "        vertical-align: top;\n",
       "    }\n",
       "\n",
       "    .dataframe thead th {\n",
       "        text-align: right;\n",
       "    }\n",
       "</style>\n",
       "<table border=\"1\" class=\"dataframe\">\n",
       "  <thead>\n",
       "    <tr style=\"text-align: right;\">\n",
       "      <th></th>\n",
       "      <th>mood</th>\n",
       "      <th>vectors</th>\n",
       "      <th>coords</th>\n",
       "    </tr>\n",
       "    <tr>\n",
       "      <th>filename</th>\n",
       "      <th></th>\n",
       "      <th></th>\n",
       "      <th></th>\n",
       "    </tr>\n",
       "  </thead>\n",
       "  <tbody>\n",
       "    <tr>\n",
       "      <th>S099_007_00000001.png</th>\n",
       "      <td>5</td>\n",
       "      <td>[-2.647651284670212, -2.4535778041744605, -2.3...</td>\n",
       "      <td>[-0.8804710999221752, -0.4740998230350174, -0....</td>\n",
       "    </tr>\n",
       "    <tr>\n",
       "      <th>S087_001_00000001.png</th>\n",
       "      <td>5</td>\n",
       "      <td>[-2.5604905849436053, -2.501874865215502, 2.46...</td>\n",
       "      <td>[-0.8573409806179685, -0.40549911245444453, -0...</td>\n",
       "    </tr>\n",
       "    <tr>\n",
       "      <th>S079_002_00000001.png</th>\n",
       "      <td>5</td>\n",
       "      <td>[-2.4449696138027033, -2.387207609984967, -2.3...</td>\n",
       "      <td>[-0.8127425537743156, -0.4402355499610876, -0....</td>\n",
       "    </tr>\n",
       "    <tr>\n",
       "      <th>S128_011_00000016.png</th>\n",
       "      <td>4</td>\n",
       "      <td>[-2.4837599629908897, -2.4485490764837308, 2.4...</td>\n",
       "      <td>[-0.8302007461788711, -0.4087142135034442, -0....</td>\n",
       "    </tr>\n",
       "    <tr>\n",
       "      <th>S130_007_00000020.png</th>\n",
       "      <td>0</td>\n",
       "      <td>[-2.3211173937914586, -2.2474718637701874, -2....</td>\n",
       "      <td>[-0.7672817679805833, -0.4466267007648172, -0....</td>\n",
       "    </tr>\n",
       "  </tbody>\n",
       "</table>\n",
       "</div>"
      ],
      "text/plain": [
       "                       mood  \\\n",
       "filename                      \n",
       "S099_007_00000001.png     5   \n",
       "S087_001_00000001.png     5   \n",
       "S079_002_00000001.png     5   \n",
       "S128_011_00000016.png     4   \n",
       "S130_007_00000020.png     0   \n",
       "\n",
       "                                                                 vectors  \\\n",
       "filename                                                                   \n",
       "S099_007_00000001.png  [-2.647651284670212, -2.4535778041744605, -2.3...   \n",
       "S087_001_00000001.png  [-2.5604905849436053, -2.501874865215502, 2.46...   \n",
       "S079_002_00000001.png  [-2.4449696138027033, -2.387207609984967, -2.3...   \n",
       "S128_011_00000016.png  [-2.4837599629908897, -2.4485490764837308, 2.4...   \n",
       "S130_007_00000020.png  [-2.3211173937914586, -2.2474718637701874, -2....   \n",
       "\n",
       "                                                                  coords  \n",
       "filename                                                                  \n",
       "S099_007_00000001.png  [-0.8804710999221752, -0.4740998230350174, -0....  \n",
       "S087_001_00000001.png  [-0.8573409806179685, -0.40549911245444453, -0...  \n",
       "S079_002_00000001.png  [-0.8127425537743156, -0.4402355499610876, -0....  \n",
       "S128_011_00000016.png  [-0.8302007461788711, -0.4087142135034442, -0....  \n",
       "S130_007_00000020.png  [-0.7672817679805833, -0.4466267007648172, -0....  "
      ]
     },
     "metadata": {},
     "output_type": "display_data"
    }
   ],
   "source": [
    "# Label encoding for SVM\n",
    "svm_data = df_ck.copy()\n",
    "le = LabelEncoder()\n",
    "svm_data['mood'] = le.fit_transform(svm_data['mood'].values)\n",
    "svm_classes = list(le.inverse_transform(np.arange(0,8)))\n",
    "print('Label encoded:')\n",
    "display(svm_data.sample(5))"
   ]
  },
  {
   "cell_type": "code",
   "execution_count": 20,
   "id": "7e1ef243",
   "metadata": {},
   "outputs": [
    {
     "name": "stdout",
     "output_type": "stream",
     "text": [
      "(Vectors only) Train X shape: (736, 68)\n",
      "(Vectors only) Train Y shape: (736,)\n"
     ]
    }
   ],
   "source": [
    "# Dataset for vectors only\n",
    "# split into train, val and test\n",
    "x = np.array([k for k in svm_data['vectors'].values])\n",
    "y = svm_data['mood'].values\n",
    "x_train, x_test, y_train, y_test = train_test_split(x, y, test_size=0.20, random_state=0)\n",
    "\n",
    "svm_vectors_only_data = [x_train, y_train, x_test, y_test]\n",
    "\n",
    "print('(Vectors only) Train X shape:', x_train.shape)\n",
    "print('(Vectors only) Train Y shape:', y_train.shape)"
   ]
  },
  {
   "cell_type": "code",
   "execution_count": 21,
   "id": "72087f89",
   "metadata": {},
   "outputs": [
    {
     "name": "stdout",
     "output_type": "stream",
     "text": [
      "(Vectors & Coords) Train X shape: (736, 204)\n",
      "(Vectors & Coords) Train Y shape: (736,)\n"
     ]
    }
   ],
   "source": [
    "# Dataset for vectors & coords\n",
    "# split into train, val and test\n",
    "x = np.c_[np.array([k for k in svm_data['vectors'].values]), np.array([k for k in svm_data['coords'].values])]\n",
    "y = svm_data['mood'].values\n",
    "x_train, x_test, y_train, y_test = train_test_split(x, y, test_size=0.20, random_state=0)\n",
    "\n",
    "svm_vectors_coords_data = [x_train, y_train, x_test, y_test]\n",
    "\n",
    "print('(Vectors & Coords) Train X shape:', x_train.shape)\n",
    "print('(Vectors & Coords) Train Y shape:', y_train.shape)"
   ]
  },
  {
   "cell_type": "markdown",
   "id": "8e497e72",
   "metadata": {},
   "source": [
    "### SVM Functions\n",
    "Functions for building, training and evaluation of SVM models."
   ]
  },
  {
   "cell_type": "code",
   "execution_count": 16,
   "id": "82c31ddc",
   "metadata": {},
   "outputs": [],
   "source": [
    "def train_svm(x_train, y_train):\n",
    "#     params = {'C':[10e-3, 10e-2, 0.1, 1, 10], 'kernel':('linear', 'poly', 'rbf', 'sigmoid'), 'decision_function_shape':('ovr', 'ovo')}\n",
    "    params = {'C':[10e-2, 0.1, 1]}\n",
    "    svm_pipe = Pipeline([('scaler', StandardScaler()), \n",
    "                       ('svm', GridSearchCV(svm.SVC(max_iter=100000, probability=True, kernel='linear', decision_function_shape='ovr'), params)), ])\n",
    "#     svm_pipe = Pipeline([('scaler', StandardScaler()), \n",
    "#                        ('svm', svm.SVC(max_iter=100000, probability=True, kernel='linear', decision_function_shape='ovr'), params), ])\n",
    "    start = time.time()\n",
    "    svm_pipe.fit(x_train, y_train)\n",
    "    end = time.time()\n",
    "    print('SVM model trained. Time taken: %.3fs.' % (end-start))\n",
    "    print('Best params:', svm_pipe['svm'].best_params_)\n",
    "    \n",
    "    return svm_pipe"
   ]
  },
  {
   "cell_type": "code",
   "execution_count": 17,
   "id": "7df1e927",
   "metadata": {},
   "outputs": [],
   "source": [
    "def evaluate_svm(svm, data, name):\n",
    "    if isinstance(svm, str):\n",
    "        svm = pickle.load(open(model_path+svm, 'rb'))\n",
    "    \n",
    "    x_train, y_train, x_test, y_test = data[0], data[1], data[2], data[3]\n",
    "    \n",
    "    # Prediction\n",
    "    y_train_pred = svm.predict(x_train)\n",
    "    y_test_pred = svm.predict(x_test)\n",
    "\n",
    "    # Evaluation\n",
    "    acc_tr = accuracy_score(y_train, y_train_pred)\n",
    "    acc_ts = accuracy_score(y_test, y_test_pred)\n",
    "    print('%s Train accuracy: %.4f' % (name, acc_tr))\n",
    "    print('%s Test accuracy: %.4f' % (name, acc_ts))\n",
    "    \n",
    "    return (acc_tr, None, acc_ts)"
   ]
  },
  {
   "cell_type": "markdown",
   "id": "df3b6a81",
   "metadata": {},
   "source": [
    "### SVM1: Vectors only"
   ]
  },
  {
   "cell_type": "code",
   "execution_count": null,
   "id": "c089d048",
   "metadata": {},
   "outputs": [],
   "source": [
    "svm1 = train_svm(svm_vectors_only_data[0], svm_vectors_only_data[1])"
   ]
  },
  {
   "cell_type": "code",
   "execution_count": 22,
   "id": "a8daf72b",
   "metadata": {},
   "outputs": [
    {
     "ename": "NameError",
     "evalue": "name 'svm1' is not defined",
     "output_type": "error",
     "traceback": [
      "\u001b[1;31m---------------------------------------------------------------------------\u001b[0m",
      "\u001b[1;31mNameError\u001b[0m                                 Traceback (most recent call last)",
      "Input \u001b[1;32mIn [22]\u001b[0m, in \u001b[0;36m<cell line: 1>\u001b[1;34m()\u001b[0m\n\u001b[1;32m----> 1\u001b[0m svm1_acc \u001b[38;5;241m=\u001b[39m evaluate_svm(\u001b[43msvm1\u001b[49m, svm_vectors_only_data, \u001b[38;5;124m'\u001b[39m\u001b[38;5;124mSVM1\u001b[39m\u001b[38;5;124m'\u001b[39m)\n",
      "\u001b[1;31mNameError\u001b[0m: name 'svm1' is not defined"
     ]
    }
   ],
   "source": [
    "svm1_acc = evaluate_svm(svm1, svm_vectors_only_data, 'SVM1')"
   ]
  },
  {
   "cell_type": "markdown",
   "id": "a27012ac",
   "metadata": {},
   "source": [
    "### SVM2: Vectors & Coords"
   ]
  },
  {
   "cell_type": "code",
   "execution_count": null,
   "id": "ec2e8b42",
   "metadata": {},
   "outputs": [],
   "source": [
    "svm2 = train_svm(svm_vectors_coords_data[0], svm_vectors_coords_data[1])"
   ]
  },
  {
   "cell_type": "code",
   "execution_count": null,
   "id": "245659ae",
   "metadata": {},
   "outputs": [],
   "source": [
    "svm2_acc = evaluate_svm(svm2, svm_vectors_coords_data, 'SVM2')"
   ]
  },
  {
   "cell_type": "code",
   "execution_count": null,
   "id": "d41da525",
   "metadata": {},
   "outputs": [],
   "source": [
    "# Save models\n",
    "pickle.dump(svm1, open(model_path + 'emotion-svm3', 'wb'))\n",
    "pickle.dump(svm2, open(model_path + 'emotion-svm4', 'wb'))"
   ]
  },
  {
   "cell_type": "code",
   "execution_count": 23,
   "id": "401f08bd",
   "metadata": {
    "scrolled": true
   },
   "outputs": [
    {
     "name": "stdout",
     "output_type": "stream",
     "text": [
      "SVM1 Train accuracy: 0.9932\n",
      "SVM1 Test accuracy: 0.8750\n",
      "\n",
      "SVM2 Train accuracy: 0.9891\n",
      "SVM2 Test accuracy: 0.9022\n"
     ]
    },
    {
     "name": "stderr",
     "output_type": "stream",
     "text": [
      "C:\\Users\\User\\venv\\emotion_tf\\lib\\site-packages\\sklearn\\base.py:329: UserWarning: Trying to unpickle estimator StandardScaler from version 0.24.2 when using version 1.0.2. This might lead to breaking code or invalid results. Use at your own risk. For more info please refer to:\n",
      "https://scikit-learn.org/stable/modules/model_persistence.html#security-maintainability-limitations\n",
      "  warnings.warn(\n",
      "C:\\Users\\User\\venv\\emotion_tf\\lib\\site-packages\\sklearn\\base.py:329: UserWarning: Trying to unpickle estimator SVC from version 0.24.2 when using version 1.0.2. This might lead to breaking code or invalid results. Use at your own risk. For more info please refer to:\n",
      "https://scikit-learn.org/stable/modules/model_persistence.html#security-maintainability-limitations\n",
      "  warnings.warn(\n",
      "C:\\Users\\User\\venv\\emotion_tf\\lib\\site-packages\\sklearn\\base.py:329: UserWarning: Trying to unpickle estimator GridSearchCV from version 0.24.2 when using version 1.0.2. This might lead to breaking code or invalid results. Use at your own risk. For more info please refer to:\n",
      "https://scikit-learn.org/stable/modules/model_persistence.html#security-maintainability-limitations\n",
      "  warnings.warn(\n",
      "C:\\Users\\User\\venv\\emotion_tf\\lib\\site-packages\\sklearn\\base.py:329: UserWarning: Trying to unpickle estimator Pipeline from version 0.24.2 when using version 1.0.2. This might lead to breaking code or invalid results. Use at your own risk. For more info please refer to:\n",
      "https://scikit-learn.org/stable/modules/model_persistence.html#security-maintainability-limitations\n",
      "  warnings.warn(\n",
      "C:\\Users\\User\\venv\\emotion_tf\\lib\\site-packages\\sklearn\\base.py:329: UserWarning: Trying to unpickle estimator StandardScaler from version 0.24.2 when using version 1.0.2. This might lead to breaking code or invalid results. Use at your own risk. For more info please refer to:\n",
      "https://scikit-learn.org/stable/modules/model_persistence.html#security-maintainability-limitations\n",
      "  warnings.warn(\n",
      "C:\\Users\\User\\venv\\emotion_tf\\lib\\site-packages\\sklearn\\base.py:329: UserWarning: Trying to unpickle estimator SVC from version 0.24.2 when using version 1.0.2. This might lead to breaking code or invalid results. Use at your own risk. For more info please refer to:\n",
      "https://scikit-learn.org/stable/modules/model_persistence.html#security-maintainability-limitations\n",
      "  warnings.warn(\n",
      "C:\\Users\\User\\venv\\emotion_tf\\lib\\site-packages\\sklearn\\base.py:329: UserWarning: Trying to unpickle estimator GridSearchCV from version 0.24.2 when using version 1.0.2. This might lead to breaking code or invalid results. Use at your own risk. For more info please refer to:\n",
      "https://scikit-learn.org/stable/modules/model_persistence.html#security-maintainability-limitations\n",
      "  warnings.warn(\n",
      "C:\\Users\\User\\venv\\emotion_tf\\lib\\site-packages\\sklearn\\base.py:329: UserWarning: Trying to unpickle estimator Pipeline from version 0.24.2 when using version 1.0.2. This might lead to breaking code or invalid results. Use at your own risk. For more info please refer to:\n",
      "https://scikit-learn.org/stable/modules/model_persistence.html#security-maintainability-limitations\n",
      "  warnings.warn(\n"
     ]
    }
   ],
   "source": [
    "svm1_acc = evaluate_svm('emotion-svm1', svm_vectors_only_data, 'SVM1')\n",
    "print()\n",
    "svm2_acc = evaluate_svm('emotion-svm2', svm_vectors_coords_data, 'SVM2')"
   ]
  },
  {
   "cell_type": "code",
   "execution_count": 37,
   "id": "bae89fe1",
   "metadata": {
    "scrolled": true
   },
   "outputs": [
    {
     "name": "stdout",
     "output_type": "stream",
     "text": [
      "SVM3 Train accuracy: 0.8601\n",
      "SVM3 Test accuracy: 0.8424\n",
      "\n"
     ]
    },
    {
     "name": "stderr",
     "output_type": "stream",
     "text": [
      "C:\\Users\\User\\venv\\emotion_tf\\lib\\site-packages\\sklearn\\base.py:329: UserWarning: Trying to unpickle estimator StandardScaler from version 0.24.2 when using version 1.0.2. This might lead to breaking code or invalid results. Use at your own risk. For more info please refer to:\n",
      "https://scikit-learn.org/stable/modules/model_persistence.html#security-maintainability-limitations\n",
      "  warnings.warn(\n",
      "C:\\Users\\User\\venv\\emotion_tf\\lib\\site-packages\\sklearn\\base.py:329: UserWarning: Trying to unpickle estimator SVC from version 0.24.2 when using version 1.0.2. This might lead to breaking code or invalid results. Use at your own risk. For more info please refer to:\n",
      "https://scikit-learn.org/stable/modules/model_persistence.html#security-maintainability-limitations\n",
      "  warnings.warn(\n",
      "C:\\Users\\User\\venv\\emotion_tf\\lib\\site-packages\\sklearn\\base.py:329: UserWarning: Trying to unpickle estimator GridSearchCV from version 0.24.2 when using version 1.0.2. This might lead to breaking code or invalid results. Use at your own risk. For more info please refer to:\n",
      "https://scikit-learn.org/stable/modules/model_persistence.html#security-maintainability-limitations\n",
      "  warnings.warn(\n",
      "C:\\Users\\User\\venv\\emotion_tf\\lib\\site-packages\\sklearn\\base.py:329: UserWarning: Trying to unpickle estimator Pipeline from version 0.24.2 when using version 1.0.2. This might lead to breaking code or invalid results. Use at your own risk. For more info please refer to:\n",
      "https://scikit-learn.org/stable/modules/model_persistence.html#security-maintainability-limitations\n",
      "  warnings.warn(\n",
      "C:\\Users\\User\\venv\\emotion_tf\\lib\\site-packages\\sklearn\\base.py:329: UserWarning: Trying to unpickle estimator StandardScaler from version 0.24.2 when using version 1.0.2. This might lead to breaking code or invalid results. Use at your own risk. For more info please refer to:\n",
      "https://scikit-learn.org/stable/modules/model_persistence.html#security-maintainability-limitations\n",
      "  warnings.warn(\n",
      "C:\\Users\\User\\venv\\emotion_tf\\lib\\site-packages\\sklearn\\base.py:329: UserWarning: Trying to unpickle estimator SVC from version 0.24.2 when using version 1.0.2. This might lead to breaking code or invalid results. Use at your own risk. For more info please refer to:\n",
      "https://scikit-learn.org/stable/modules/model_persistence.html#security-maintainability-limitations\n",
      "  warnings.warn(\n",
      "C:\\Users\\User\\venv\\emotion_tf\\lib\\site-packages\\sklearn\\base.py:329: UserWarning: Trying to unpickle estimator GridSearchCV from version 0.24.2 when using version 1.0.2. This might lead to breaking code or invalid results. Use at your own risk. For more info please refer to:\n",
      "https://scikit-learn.org/stable/modules/model_persistence.html#security-maintainability-limitations\n",
      "  warnings.warn(\n",
      "C:\\Users\\User\\venv\\emotion_tf\\lib\\site-packages\\sklearn\\base.py:329: UserWarning: Trying to unpickle estimator Pipeline from version 0.24.2 when using version 1.0.2. This might lead to breaking code or invalid results. Use at your own risk. For more info please refer to:\n",
      "https://scikit-learn.org/stable/modules/model_persistence.html#security-maintainability-limitations\n",
      "  warnings.warn(\n"
     ]
    },
    {
     "name": "stdout",
     "output_type": "stream",
     "text": [
      "SVM4 Train accuracy: 0.8981\n",
      "SVM4 Test accuracy: 0.8641\n"
     ]
    }
   ],
   "source": [
    "svm3_acc = evaluate_svm('emotion-svm3', svm_vectors_only_data, 'SVM3')\n",
    "print()\n",
    "svm4_acc = evaluate_svm('emotion-svm4', svm_vectors_coords_data, 'SVM4')"
   ]
  },
  {
   "cell_type": "markdown",
   "id": "d09ee1fc",
   "metadata": {},
   "source": [
    "## Cropped Images\n",
    "Model input is pixel graylevels instead of vectors/coordinates. CNN is used."
   ]
  },
  {
   "cell_type": "code",
   "execution_count": 40,
   "id": "f99bdfd0",
   "metadata": {
    "scrolled": true
   },
   "outputs": [],
   "source": [
    "def generateGraylevelDataset(cropped_dataset, cropped_target):\n",
    "    cropped_target = LabelEncoder().fit_transform(cropped_target)\n",
    "    \n",
    "    # train-test-val split\n",
    "    x_train, x_test, y_train, y_test = train_test_split(cropped_dataset, cropped_target, test_size=0.20, random_state=0)\n",
    "    x_train, x_val, y_train, y_val = train_test_split(x_train, y_train, test_size=0.20, random_state=0)\n",
    "\n",
    "    # reshape for CNN (samples, w, h, c)\n",
    "    x_train = x_train.reshape(x_train.shape[0], dim, dim, 1)\n",
    "    x_val = x_val.reshape(x_val.shape[0], dim, dim, 1)\n",
    "    x_test = x_test.reshape(x_test.shape[0], dim, dim, 1)\n",
    "\n",
    "    x_train = x_train.astype('float32')\n",
    "    x_val = x_val.astype('float32')\n",
    "    x_test = x_test.astype('float32')\n",
    "\n",
    "    # normalization\n",
    "    x_train /= 255.0\n",
    "    x_val /= 255.0\n",
    "    x_test /= 255.0\n",
    "\n",
    "    # one-hot encoding\n",
    "    num_classes = len(moods)\n",
    "    y_train = to_categorical(y_train, num_classes)\n",
    "    y_val = to_categorical(y_val, num_classes)\n",
    "    y_test = to_categorical(y_test, num_classes)\n",
    "\n",
    "    print('Train X shape:', x_train.shape)\n",
    "    print('Train Y shape:', y_train.shape)\n",
    "    \n",
    "    return [x_train, y_train, x_val, y_val, x_test, y_test]"
   ]
  },
  {
   "cell_type": "code",
   "execution_count": 41,
   "id": "699c8984",
   "metadata": {},
   "outputs": [
    {
     "name": "stdout",
     "output_type": "stream",
     "text": [
      "Train X shape: (588, 50, 50, 1)\n",
      "Train Y shape: (588, 8)\n",
      "Train X shape: (8396, 50, 50, 1)\n",
      "Train Y shape: (8396, 8)\n"
     ]
    }
   ],
   "source": [
    "ck_graylevels_data = generateGraylevelDataset(ck_cropped_dataset, ck_cropped_target)\n",
    "mux_graylevels_data = generateGraylevelDataset(mux_cropped_dataset, mux_cropped_target)"
   ]
  },
  {
   "cell_type": "code",
   "execution_count": 43,
   "id": "c282aeca",
   "metadata": {
    "scrolled": true
   },
   "outputs": [
    {
     "name": "stdout",
     "output_type": "stream",
     "text": [
      "Building model... Model built.\n",
      "Starting training...\n",
      "Done (67 epochs). Time taken: 1m1s.\n"
     ]
    },
    {
     "data": {
      "image/png": "[encoded data removed]",
      "text/plain": [
       "<Figure size 432x288 with 1 Axes>"
      ]
     },
     "metadata": {
      "needs_background": "light"
     },
     "output_type": "display_data"
    },
    {
     "data": {
      "image/png": "[encoded data removed]",
      "text/plain": [
       "<Figure size 432x288 with 1 Axes>"
      ]
     },
     "metadata": {
      "needs_background": "light"
     },
     "output_type": "display_data"
    },
    {
     "name": "stdout",
     "output_type": "stream",
     "text": [
      "Train accuracy: 0.9507, loss: 0.1515\n",
      "Validation accuracy: 0.7770, loss: 0.9567\n",
      "Test accuracy: 0.821, loss: 0.802\n"
     ]
    }
   ],
   "source": [
    "MODEL_NAME = model_path + 'emotion-cnnC.hd5'\n",
    "model = build_cnn(MODEL_NAME, 3, (dim, dim, 1))\n",
    "train_cnn(model, ck_graylevels_data, 100, MODEL_NAME, verbose=False)\n",
    "cnnA_acc = evaluate_cnn(MODEL_NAME, ck_graylevels_data)"
   ]
  },
  {
   "cell_type": "code",
   "execution_count": 44,
   "id": "cd555b79",
   "metadata": {
    "scrolled": true
   },
   "outputs": [
    {
     "name": "stdout",
     "output_type": "stream",
     "text": [
      "Building model... Model built.\n",
      "Starting training...\n",
      "Done (35 epochs). Time taken: 1m6s.\n"
     ]
    },
    {
     "data": {
      "image/png": "[encoded data removed]",
      "text/plain": [
       "<Figure size 432x288 with 1 Axes>"
      ]
     },
     "metadata": {
      "needs_background": "light"
     },
     "output_type": "display_data"
    },
    {
     "data": {
      "image/png": "[encoded data removed]",
      "text/plain": [
       "<Figure size 432x288 with 1 Axes>"
      ]
     },
     "metadata": {
      "needs_background": "light"
     },
     "output_type": "display_data"
    },
    {
     "name": "stdout",
     "output_type": "stream",
     "text": [
      "Train accuracy: 0.9270, loss: 0.2033\n",
      "Validation accuracy: 0.8267, loss: 0.5873\n",
      "Test accuracy: 0.828, loss: 0.578\n"
     ]
    }
   ],
   "source": [
    "MODEL_NAME = model_path + 'emotion-cnnB.hd5'\n",
    "model = build_cnn(MODEL_NAME, 3, (dim, dim, 1))\n",
    "train_cnn(model, mux_graylevels_data, 100, MODEL_NAME, verbose=False)\n",
    "cnnB_acc = evaluate_cnn(MODEL_NAME, mux_graylevels_data)"
   ]
  },
  {
   "cell_type": "code",
   "execution_count": 46,
   "id": "313bc0a1",
   "metadata": {
    "scrolled": true
   },
   "outputs": [
    {
     "ename": "AttributeError",
     "evalue": "'_UserObject' object has no attribute 'evaluate'",
     "output_type": "error",
     "traceback": [
      "\u001b[1;31m---------------------------------------------------------------------------\u001b[0m",
      "\u001b[1;31mAttributeError\u001b[0m                            Traceback (most recent call last)",
      "Input \u001b[1;32mIn [46]\u001b[0m, in \u001b[0;36m<cell line: 1>\u001b[1;34m()\u001b[0m\n\u001b[1;32m----> 1\u001b[0m cnnA_acc \u001b[38;5;241m=\u001b[39m \u001b[43mevaluate_cnn\u001b[49m\u001b[43m(\u001b[49m\u001b[43mmodel_path\u001b[49m\u001b[43m \u001b[49m\u001b[38;5;241;43m+\u001b[39;49m\u001b[43m \u001b[49m\u001b[38;5;124;43m'\u001b[39;49m\u001b[38;5;124;43memotion-cnnA.hd5\u001b[39;49m\u001b[38;5;124;43m'\u001b[39;49m\u001b[43m,\u001b[49m\u001b[43m \u001b[49m\u001b[43mck_graylevels_data\u001b[49m\u001b[43m,\u001b[49m\u001b[43m \u001b[49m\u001b[38;5;124;43m'\u001b[39;49m\u001b[38;5;124;43mCNNA\u001b[39;49m\u001b[38;5;124;43m'\u001b[39;49m\u001b[43m)\u001b[49m\n\u001b[0;32m      2\u001b[0m \u001b[38;5;28mprint\u001b[39m()\n\u001b[0;32m      3\u001b[0m cnnB_acc \u001b[38;5;241m=\u001b[39m evaluate_cnn(model_path \u001b[38;5;241m+\u001b[39m \u001b[38;5;124m'\u001b[39m\u001b[38;5;124memotion-cnnB.hd5\u001b[39m\u001b[38;5;124m'\u001b[39m, mux_graylevels_data, \u001b[38;5;124m'\u001b[39m\u001b[38;5;124mCNNB\u001b[39m\u001b[38;5;124m'\u001b[39m)\n",
      "Input \u001b[1;32mIn [9]\u001b[0m, in \u001b[0;36mevaluate_cnn\u001b[1;34m(model_name, data, tag)\u001b[0m\n\u001b[0;32m      3\u001b[0m model \u001b[38;5;241m=\u001b[39m load_model(model_name)\n\u001b[0;32m      4\u001b[0m x_train, y_train, x_val, y_val, x_test, y_test \u001b[38;5;241m=\u001b[39m data[\u001b[38;5;241m0\u001b[39m], data[\u001b[38;5;241m1\u001b[39m], data[\u001b[38;5;241m2\u001b[39m], data[\u001b[38;5;241m3\u001b[39m], data[\u001b[38;5;241m4\u001b[39m], data[\u001b[38;5;241m5\u001b[39m]\n\u001b[1;32m----> 5\u001b[0m loss_tr, acc_tr \u001b[38;5;241m=\u001b[39m \u001b[43mmodel\u001b[49m\u001b[38;5;241;43m.\u001b[39;49m\u001b[43mevaluate\u001b[49m(x\u001b[38;5;241m=\u001b[39mx_train, y\u001b[38;5;241m=\u001b[39my_train, verbose\u001b[38;5;241m=\u001b[39m\u001b[38;5;28;01mFalse\u001b[39;00m)\n\u001b[0;32m      6\u001b[0m loss_val, acc_val \u001b[38;5;241m=\u001b[39m model\u001b[38;5;241m.\u001b[39mevaluate(x\u001b[38;5;241m=\u001b[39mx_val, y\u001b[38;5;241m=\u001b[39my_val, verbose\u001b[38;5;241m=\u001b[39m\u001b[38;5;28;01mFalse\u001b[39;00m)\n\u001b[0;32m      7\u001b[0m loss_ts, acc_ts \u001b[38;5;241m=\u001b[39m model\u001b[38;5;241m.\u001b[39mevaluate(x\u001b[38;5;241m=\u001b[39mx_test, y\u001b[38;5;241m=\u001b[39my_test, verbose\u001b[38;5;241m=\u001b[39m\u001b[38;5;28;01mFalse\u001b[39;00m)\n",
      "\u001b[1;31mAttributeError\u001b[0m: '_UserObject' object has no attribute 'evaluate'"
     ]
    }
   ],
   "source": [
    "cnnA_acc = evaluate_cnn(model_path + 'emotion-cnnA.hd5', ck_graylevels_data, 'CNNA')\n",
    "print()\n",
    "cnnB_acc = evaluate_cnn(model_path + 'emotion-cnnB.hd5', mux_graylevels_data, 'CNNB')\n",
    "print()"
   ]
  },
  {
   "cell_type": "markdown",
   "id": "8efdd16b",
   "metadata": {},
   "source": [
    "# Comparison\n",
    "This section is for comparison between models. I'll compare their accuracies, then I'll test the models on random images."
   ]
  },
  {
   "cell_type": "markdown",
   "id": "ade8a2a9",
   "metadata": {},
   "source": [
    "## Metrics"
   ]
  },
  {
   "cell_type": "code",
   "execution_count": null,
   "id": "3b49f7b5",
   "metadata": {},
   "outputs": [],
   "source": [
    "accuracies = [cnn1_acc, cnn2_acc, cnn3_acc, svm1_acc, svm2_acc, cnnA_acc]\n",
    "evaluate_dict = {\n",
    "    'Model': ['CNN1','CNN2','CNN3','SVM1','SVM2','CNNA'],\n",
    "    'Inputs': ['Vectors only','Vectors only','Vectors & coords','Vectors only','Vectors & coords','Pixel graylevels'],\n",
    "    'Train acc': [k[0] for k in accuracies],\n",
    "    'Val acc': [k[1] for k in accuracies],\n",
    "    'Test acc': [k[2] for k in accuracies]\n",
    "}\n",
    "evaluate_df = pd.DataFrame(evaluate_dict)\n",
    "evaluate_df.set_index('Model', inplace=True)\n",
    "display(evaluate_df)"
   ]
  },
  {
   "cell_type": "markdown",
   "id": "7746b097",
   "metadata": {},
   "source": [
    "## Testing Models"
   ]
  },
  {
   "cell_type": "code",
   "execution_count": null,
   "id": "78a87404",
   "metadata": {
    "scrolled": true
   },
   "outputs": [],
   "source": [
    "import random\n",
    "\n",
    "# get all image filenames\n",
    "image_filenames = []\n",
    "dataset = dataset2\n",
    "for root, dirs, files in os.walk(data_path + dataset + '/'):\n",
    "    dir = os.path.basename(root)\n",
    "    for file in files:\n",
    "        image_filenames += [data_path + dataset + '/' + dir + '/' + file]\n",
    "        \n",
    "rand_images = random.sample(image_filenames, 10) # get random images\n",
    "\n",
    "# load models\n",
    "# cnn1 = load_model(model_path+'emotion-cnn1.hd5')\n",
    "# cnn3 = load_model(model_path+'emotion-cnn3.hd5')\n",
    "# svm1 = pickle.load(open(model_path+'emotion-svm1', 'rb'))\n",
    "# svm2 = pickle.load(open(model_path+'emotion-svm2', 'rb')) \n",
    "cnnA = load_model(model_path+'emotion-cnnA.hd5')\n",
    "cnnB = load_model(model_path+'emotion-cnnB.hd5')\n",
    "\n",
    "for path in rand_images:\n",
    "    vectors, coords = [], []\n",
    "    classes = {}\n",
    "    \n",
    "    image = cv2.imread(path)\n",
    "    image = imutils.resize(image, width=400)\n",
    "    gray = cv2.cvtColor(image, cv2.COLOR_BGR2GRAY)\n",
    "\n",
    "    rects = detector(gray, 1)\n",
    "\n",
    "    for (i, rect) in enumerate(rects):\n",
    "        shape = predictor(gray, rect)\n",
    "        shape = face_utils.shape_to_np(shape) \n",
    "\n",
    "        cog = tuple(shape.mean(axis=0).astype(int)) # get center of gravity (COG)\n",
    "\n",
    "        for (x,y) in shape:\n",
    "            cv2.line(image, (x,y), cog, (0,0,255), 1) # draw vector lines\n",
    "            cv2.circle(image, (x,y), 2, (255,0,0), -1) # image, center-coords, radius, colour, thickness(fill)\n",
    "            vectors.append([mag(cog, (x,y)), angle(cog, (x,y))]) # get vector magnitude and direction\n",
    "            coords.append([x-cog[0], y-cog[1]])\n",
    "\n",
    "        cv2.circle(image, cog, 5, (0,255,255), -1)\n",
    "        \n",
    "        (x,y,w,h) = face_utils.rect_to_bb(rect)\n",
    "        cv2.rectangle(image, (x,y), (x+w, y+h), (0,255,0), 2)\n",
    "        cv2.putText(image, \"Face #{}\".format(i+1), (x-10, y-10),\n",
    "            cv2.FONT_HERSHEY_SIMPLEX, 0.5, (0,255,0), 2)\n",
    "        \n",
    "        # model inputs\n",
    "        ## vectors & coords\n",
    "        vectors = np.array(vectors)\n",
    "        scale_factor = 1 / max(vectors[:,0])\n",
    "        vectors[:,0] = vectors[:,0] * scale_factor # normalize magnitudes\n",
    "        vectors = vectors[:,0] * vectors[:,1]\n",
    "        coords = (np.array(coords) * scale_factor).reshape(-1) # 1D array\n",
    "        \n",
    "        svm_vec_input = vectors.reshape(1,-1)\n",
    "        cnn_vec_input = vectors.reshape(1, len(vectors), 1)\n",
    "        svm_both_input = np.r_[vectors, coords].reshape(1,-1)\n",
    "        cnn_both_input = np.r_[vectors, coords].reshape(1, len(vectors)+len(coords), 1)\n",
    "#         print(svm_input.shape, cnn_input.shape)\n",
    "        \n",
    "        ## image graylevels\n",
    "        cnn_px_input = image[y:y+h, x:x+w] # crop to face\n",
    "        cnn_px_input = cv2.cvtColor(cnn_px_input, cv2.COLOR_RGB2GRAY) # convert to grayscale\n",
    "        cnn_px_input = cv2.equalizeHist(cnn_px_input) # equalize histogram\n",
    "        cnn_px_input = imutils.resize(cnn_px_input, width=int(dim*1.05)) # buffer of 5 pixels for cropping to 100x100\n",
    "        cnn_px_input = np.expand_dims(cnn_px_input[:dim,:dim], axis=0) # shape=(1,dim,dim)\n",
    "    \n",
    "        # prediction\n",
    "#         classes['CNN3'] = emotion_classes[np.argmax(cnn3.predict(cnn_both_input))]\n",
    "#         classes['SVM2'] = emotion_classes[svm2.predict(svm_both_input)[0]]\n",
    "#         classes['CNNA'] = emotion_classes[np.argmax(cnnA.predict(cnn_px_input))]\n",
    "        i = 1\n",
    "        for k,v in classes.items():\n",
    "            print(k,v)\n",
    "#             cv2.putText(image, '%s: %s' % (k,v), (x-20,y+h+20*i),\n",
    "#                 cv2.FONT_HERSHEY_SIMPLEX, 0.5, (0,255,0), 2)\n",
    "            i += 1\n",
    "        print(cnnA.predict(cnn_px_input))\n",
    "        print(cnnB.predict(cnn_px_input))\n",
    "    \n",
    "    print(path)\n",
    "    plt.imshow(image) # adapted for jupyter\n",
    "    plt.show()"
   ]
  },
  {
   "cell_type": "markdown",
   "id": "18fe1b4d",
   "metadata": {},
   "source": [
    "## Just in case"
   ]
  },
  {
   "cell_type": "code",
   "execution_count": null,
   "id": "a2332989",
   "metadata": {},
   "outputs": [],
   "source": [
    "        # Akmadan's model\n",
    "#         #1st CNN layer\n",
    "#         model.add(Conv2D(64,(3,3),padding = 'same',input_shape = (48,48,1)))\n",
    "#         model.add(BatchNormalization())\n",
    "#         model.add(Activation('relu'))\n",
    "#         model.add(MaxPooling2D(pool_size = (2,2)))\n",
    "#         model.add(Dropout(0.25))\n",
    "\n",
    "#         #2nd CNN layer\n",
    "#         model.add(Conv2D(128,(5,5),padding = 'same'))\n",
    "#         model.add(BatchNormalization())\n",
    "#         model.add(Activation('relu'))\n",
    "#         model.add(MaxPooling2D(pool_size = (2,2)))\n",
    "#         model.add(Dropout (0.25))\n",
    "\n",
    "#         #3rd CNN layer\n",
    "#         model.add(Conv2D(512,(3,3),padding = 'same'))\n",
    "#         model.add(BatchNormalization())\n",
    "#         model.add(Activation('relu'))\n",
    "#         model.add(MaxPooling2D(pool_size = (2,2)))\n",
    "#         model.add(Dropout (0.25))\n",
    "\n",
    "#         #4th CNN layer\n",
    "#         model.add(Conv2D(512,(3,3), padding='same'))\n",
    "#         model.add(BatchNormalization())\n",
    "#         model.add(Activation('relu'))\n",
    "#         model.add(MaxPooling2D(pool_size=(2, 2)))\n",
    "#         model.add(Dropout(0.25))\n",
    "\n",
    "#         model.add(Flatten())\n",
    "\n",
    "#         #Fully connected 1st layer\n",
    "#         model.add(Dense(256))\n",
    "#         model.add(BatchNormalization())\n",
    "#         model.add(Activation('relu'))\n",
    "#         model.add(Dropout(0.25))\n",
    "\n",
    "#         # Fully connected layer 2nd layer\n",
    "#         model.add(Dense(512))\n",
    "#         model.add(BatchNormalization())\n",
    "#         model.add(Activation('relu'))\n",
    "#         model.add(Dropout(0.25))"
   ]
  }
 ],
 "metadata": {
  "kernelspec": {
   "display_name": "emotion_tf",
   "language": "python",
   "name": "emotion_tf"
  },
  "language_info": {
   "codemirror_mode": {
    "name": "ipython",
    "version": 3
   },
   "file_extension": ".py",
   "mimetype": "text/x-python",
   "name": "python",
   "nbconvert_exporter": "python",
   "pygments_lexer": "ipython3",
   "version": "3.8.10"
  },
  "latex_envs": {
   "LaTeX_envs_menu_present": true,
   "autoclose": false,
   "autocomplete": true,
   "bibliofile": "biblio.bib",
   "cite_by": "apalike",
   "current_citInitial": 1,
   "eqLabelWithNumbers": true,
   "eqNumInitial": 1,
   "hotkeys": {
    "equation": "Ctrl-E",
    "itemize": "Ctrl-I"
   },
   "labels_anchors": false,
   "latex_user_defs": false,
   "report_style_numbering": false,
   "user_envs_cfg": false
  }
 },
 "nbformat": 4,
 "nbformat_minor": 5
}
